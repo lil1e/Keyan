{
 "cells": [
  {
   "cell_type": "code",
   "execution_count": 1,
   "metadata": {},
   "outputs": [],
   "source": [
    "import os\n",
    "import re\n",
    "import json\n",
    "import docx\n",
    "import win32com\n",
    "from win32com.client import Dispatch\n",
    "import time"
   ]
  },
  {
   "cell_type": "code",
   "execution_count": 2,
   "metadata": {},
   "outputs": [],
   "source": [
    "def extract(content,i):\n",
    "    # 正则表达式 与 匹配结果\n",
    "    pattern = r'(入院情况|入院诊断|诊疗经过|出院诊断|出院医嘱)(:|：)(.+)(?=\\n)'\n",
    "    result = re.findall(pattern, content)\n",
    "\n",
    "\n",
    "    # 将匹配结果转化为字典\n",
    "    result_dict = {tup[0]: tup[2] for tup in result}\n",
    "\n",
    "\n",
    "    #字典类型转换为 JSON 对象\n",
    "    \n",
    "    folder_path = f\"D:\\Testbook\\科研\\病例\\json文件\"\n",
    "    file_path = os.path.join(folder_path, f\"出院记录{i}.json\")\n",
    "    with open(file_path,\"w\") as f:\n",
    "        json.dump(result_dict, f, ensure_ascii=False)\n"
   ]
  },
  {
   "cell_type": "code",
   "execution_count": 3,
   "metadata": {},
   "outputs": [],
   "source": [
    "import pythoncom\n"
   ]
  },
  {
   "cell_type": "code",
   "execution_count": 16,
   "metadata": {},
   "outputs": [],
   "source": [
    "def doc2docx(path):\n",
    "    time.sleep(0.1)\n",
    "    #w = win32com.client.Dispatch('Word.Application')\n",
    "    w = win32com.client.Dispatch('kwps.Application')\n",
    "    w.Visible = 0\n",
    "    w.DisplayAlerts = 0\n",
    "    doc = w.Documents.Open(path)\n",
    "    # 这里必须要绝对地址,保持和doc路径一致\n",
    "    #newpath = os.path.join(folder_path, '出院记录.docx')\n",
    "    newpath = \"{}.docx\".format(path[:-4])\n",
    "    time.sleep(0.1)# 暂停3s，否则会出现-2147352567,错误\n",
    "    #print(type(doc))#调试\n",
    "    doc.SaveAs(newpath,12,False,\"\",True,\"\",False,False,False,False)\n",
    "    #doc.SaveAs(newpath, 12) \n",
    "    \n",
    "    \n",
    "    doc.Close() #开启则会删掉原来的doc\n",
    "    w.Quit()# 退出\n",
    "    return newpath\n"
   ]
  },
  {
   "cell_type": "code",
   "execution_count": 5,
   "metadata": {},
   "outputs": [
    {
     "name": "stdout",
     "output_type": "stream",
     "text": [
      "D:\\Testbook\\科研\\病例\\病例2\\出院记录.docx\n"
     ]
    }
   ],
   "source": [
    "folder_path = f\"D:\\Testbook\\科研\\病例\\病例2\"\n",
    "file_path = os.path.join(folder_path, \"出院记录.doc\")\n",
    "\n",
    "new_path = doc2docx(file_path)\n",
    "print(new_path)"
   ]
  },
  {
   "cell_type": "code",
   "execution_count": 67,
   "metadata": {},
   "outputs": [],
   "source": [
    "f = docx.Document(new_path)\n",
    "content = \"\\n\".join([p.text for p in f.paragraphs])\n",
    "\n",
    "#print(content)"
   ]
  },
  {
   "cell_type": "code",
   "execution_count": 46,
   "metadata": {},
   "outputs": [],
   "source": [
    "extract(content, 2)"
   ]
  },
  {
   "cell_type": "code",
   "execution_count": 77,
   "metadata": {},
   "outputs": [
    {
     "name": "stdout",
     "output_type": "stream",
     "text": [
      "第10个文件处理完成。\n"
     ]
    },
    {
     "ename": "AttributeError",
     "evalue": "Open.SaveAs",
     "output_type": "error",
     "traceback": [
      "\u001b[1;31m---------------------------------------------------------------------------\u001b[0m",
      "\u001b[1;31mAttributeError\u001b[0m                            Traceback (most recent call last)",
      "Cell \u001b[1;32mIn[77], line 7\u001b[0m\n\u001b[0;32m      5\u001b[0m     word_list\u001b[38;5;241m.\u001b[39mappend(file_path)  \u001b[38;5;66;03m# 把路径添加到列表中\u001b[39;00m\n\u001b[0;32m      6\u001b[0m \u001b[38;5;28;01mfor\u001b[39;00m word \u001b[38;5;129;01min\u001b[39;00m word_list:\n\u001b[1;32m----> 7\u001b[0m     new_path \u001b[38;5;241m=\u001b[39m \u001b[43mdoc2docx\u001b[49m\u001b[43m(\u001b[49m\u001b[43mword\u001b[49m\u001b[43m)\u001b[49m\n\u001b[0;32m      8\u001b[0m     f \u001b[38;5;241m=\u001b[39m docx\u001b[38;5;241m.\u001b[39mDocument(new_path)\n\u001b[0;32m      9\u001b[0m     content \u001b[38;5;241m=\u001b[39m \u001b[38;5;124m\"\u001b[39m\u001b[38;5;130;01m\\n\u001b[39;00m\u001b[38;5;124m\"\u001b[39m\u001b[38;5;241m.\u001b[39mjoin([p\u001b[38;5;241m.\u001b[39mtext \u001b[38;5;28;01mfor\u001b[39;00m p \u001b[38;5;129;01min\u001b[39;00m f\u001b[38;5;241m.\u001b[39mparagraphs])\n",
      "Cell \u001b[1;32mIn[74], line 13\u001b[0m, in \u001b[0;36mdoc2docx\u001b[1;34m(path)\u001b[0m\n\u001b[0;32m     11\u001b[0m time\u001b[38;5;241m.\u001b[39msleep(\u001b[38;5;241m0.1\u001b[39m)\u001b[38;5;66;03m# 暂停3s，否则会出现-2147352567,错误\u001b[39;00m\n\u001b[0;32m     12\u001b[0m \u001b[38;5;66;03m#print(type(doc))#调试\u001b[39;00m\n\u001b[1;32m---> 13\u001b[0m \u001b[43mdoc\u001b[49m\u001b[38;5;241;43m.\u001b[39;49m\u001b[43mSaveAs\u001b[49m(newpath,\u001b[38;5;241m12\u001b[39m,\u001b[38;5;28;01mFalse\u001b[39;00m,\u001b[38;5;124m\"\u001b[39m\u001b[38;5;124m\"\u001b[39m,\u001b[38;5;28;01mTrue\u001b[39;00m,\u001b[38;5;124m\"\u001b[39m\u001b[38;5;124m\"\u001b[39m,\u001b[38;5;28;01mFalse\u001b[39;00m,\u001b[38;5;28;01mFalse\u001b[39;00m,\u001b[38;5;28;01mFalse\u001b[39;00m,\u001b[38;5;28;01mFalse\u001b[39;00m)\n\u001b[0;32m     14\u001b[0m \u001b[38;5;66;03m#doc.SaveAs(newpath, 12) \u001b[39;00m\n\u001b[0;32m     17\u001b[0m doc\u001b[38;5;241m.\u001b[39mClose \u001b[38;5;66;03m#开启则会删掉原来的doc\u001b[39;00m\n",
      "File \u001b[1;32mD:\\code\\conda\\anaconda\\envs\\RAG-test\\lib\\site-packages\\win32com\\client\\dynamic.py:638\u001b[0m, in \u001b[0;36mCDispatch.__getattr__\u001b[1;34m(self, attr)\u001b[0m\n\u001b[0;32m    635\u001b[0m     \u001b[38;5;28;01mreturn\u001b[39;00m \u001b[38;5;28mself\u001b[39m\u001b[38;5;241m.\u001b[39m_get_good_object_(ret)\n\u001b[0;32m    637\u001b[0m \u001b[38;5;66;03m# no where else to look.\u001b[39;00m\n\u001b[1;32m--> 638\u001b[0m \u001b[38;5;28;01mraise\u001b[39;00m \u001b[38;5;167;01mAttributeError\u001b[39;00m(\u001b[38;5;124m\"\u001b[39m\u001b[38;5;132;01m%s\u001b[39;00m\u001b[38;5;124m.\u001b[39m\u001b[38;5;132;01m%s\u001b[39;00m\u001b[38;5;124m\"\u001b[39m \u001b[38;5;241m%\u001b[39m (\u001b[38;5;28mself\u001b[39m\u001b[38;5;241m.\u001b[39m_username_, attr))\n",
      "\u001b[1;31mAttributeError\u001b[0m: Open.SaveAs"
     ]
    }
   ],
   "source": [
    "word_list = []  # 用来存储所有的word文件路径\n",
    "for i in range(2, 11):\n",
    "    current_folder = f\"D:\\Testbook\\科研\\病例\\病例{i}\"\n",
    "    file_path = os.path.join(current_folder, \"出院记录.doc\")\n",
    "    word_list.append(file_path)  # 把路径添加到列表中\n",
    "for word in word_list:\n",
    "    new_path = doc2docx(word)\n",
    "    f = docx.Document(new_path)\n",
    "    content = \"\\n\".join([p.text for p in f.paragraphs])\n",
    "    extract(content, i)\n",
    "    print(f\"第{i}个文件处理完成。\")\n",
    "\n",
    "\n"
   ]
  },
  {
   "cell_type": "code",
   "execution_count": 19,
   "metadata": {},
   "outputs": [
    {
     "name": "stdout",
     "output_type": "stream",
     "text": [
      "第1个文件处理完成。\n",
      "第2个文件处理完成。\n",
      "第3个文件处理完成。\n",
      "第4个文件处理完成。\n",
      "第5个文件处理完成。\n",
      "第6个文件处理完成。\n",
      "第7个文件处理完成。\n",
      "第8个文件处理完成。\n",
      "第9个文件处理完成。\n"
     ]
    }
   ],
   "source": [
    "for i in range(1, 11):\n",
    "    folder_path = f\"D:\\Testbook\\科研\\病例\\病例{i}\"\n",
    "    file_path = os.path.join(folder_path, \"出院记录.doc\")\n",
    "    new_path = doc2docx(file_path)\n",
    "\n",
    "    f = docx.Document(new_path)\n",
    "    content = \"\\n\".join([p.text for p in f.paragraphs])\n",
    "    extract(content, i)\n",
    "\n",
    "    print(f\"第{i}个文件处理完成。\")\n",
    "\n",
    "       \n",
    "    "
   ]
  },
  {
   "cell_type": "code",
   "execution_count": null,
   "metadata": {},
   "outputs": [],
   "source": []
  },
  {
   "cell_type": "code",
   "execution_count": null,
   "metadata": {},
   "outputs": [],
   "source": []
  },
  {
   "cell_type": "code",
   "execution_count": null,
   "metadata": {},
   "outputs": [],
   "source": []
  }
 ],
 "metadata": {
  "kernelspec": {
   "display_name": "rag-test",
   "language": "python",
   "name": "rag-test"
  },
  "language_info": {
   "codemirror_mode": {
    "name": "ipython",
    "version": 3
   },
   "file_extension": ".py",
   "mimetype": "text/x-python",
   "name": "python",
   "nbconvert_exporter": "python",
   "pygments_lexer": "ipython3",
   "version": "3.9.0"
  }
 },
 "nbformat": 4,
 "nbformat_minor": 2
}
