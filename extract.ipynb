{
 "cells": [
  {
   "cell_type": "code",
   "execution_count": 1,
   "metadata": {},
   "outputs": [],
   "source": [
    "import os\n",
    "import re\n",
    "import json\n",
    "import docx\n",
    "import win32com\n",
    "from win32com.client import Dispatch\n",
    "import time"
   ]
  },
  {
   "cell_type": "markdown",
   "metadata": {},
   "source": [
    "# 数据提取函数"
   ]
  },
  {
   "cell_type": "code",
   "execution_count": 23,
   "metadata": {},
   "outputs": [],
   "source": [
    "def extract(content,i):\n",
    "    # 正则表达式 与 匹配结果\n",
    "    pattern1 = r'(入院情况|入院诊断|诊疗经过|出院诊断)(:|：)(.+)(?=\\n)'\n",
    "\n",
    "    pattern2 = r'(出院医嘱)(:|：)([\\s\\S]*)'\n",
    "    #构建字典\n",
    "    result1 = re.findall(pattern1, content)\n",
    "    result_dict = {tup[0]: tup[2] for tup in result1}\n",
    "    #查找出院医嘱并构建临时字典\n",
    "    result2 = re.findall(pattern2, content)\n",
    "    temp_dict = {tup[0]: tup[2] for tup in result2}\n",
    "    #合并字典\n",
    "    result_dict.update(temp_dict)\n",
    "\n",
    "\n",
    "    #字典类型转换为 JSON 对象\n",
    "    \n",
    "    folder_path = f\"D:\\Testbook\\科研\\病例\\json文件\"\n",
    "    file_path = os.path.join(folder_path, f\"出院记录{i}.json\")\n",
    "    with open(file_path,\"w\") as f:\n",
    "        json.dump(result_dict, f, ensure_ascii=False)\n"
   ]
  },
  {
   "cell_type": "markdown",
   "metadata": {},
   "source": [
    "# 文件格式转换函数"
   ]
  },
  {
   "cell_type": "code",
   "execution_count": 16,
   "metadata": {},
   "outputs": [],
   "source": [
    "def doc2docx(path):\n",
    "    time.sleep(0.1)\n",
    "    #w = win32com.client.Dispatch('Word.Application')\n",
    "    w = win32com.client.Dispatch('kwps.Application')\n",
    "    w.Visible = 0\n",
    "    w.DisplayAlerts = 0\n",
    "    doc = w.Documents.Open(path)\n",
    "    # 这里必须要绝对地址,保持和doc路径一致\n",
    "    #newpath = os.path.join(folder_path, '出院记录.docx')\n",
    "    newpath = \"{}.docx\".format(path[:-4])\n",
    "    time.sleep(0.1)# 暂停3s，否则会出现-2147352567,错误\n",
    "    #print(type(doc))#调试\n",
    "    doc.SaveAs(newpath,12,False,\"\",True,\"\",False,False,False,False)\n",
    "    #doc.SaveAs(newpath, 12) \n",
    "    \n",
    "    \n",
    "    doc.Close() #开启则会删掉原来的doc\n",
    "    w.Quit()# 退出\n",
    "    return newpath\n"
   ]
  },
  {
   "cell_type": "markdown",
   "metadata": {},
   "source": [
    "# 处理文件"
   ]
  },
  {
   "cell_type": "code",
   "execution_count": 24,
   "metadata": {},
   "outputs": [
    {
     "name": "stdout",
     "output_type": "stream",
     "text": [
      "第1个文件处理完成。\n",
      "第2个文件处理完成。\n",
      "第3个文件处理完成。\n",
      "第4个文件处理完成。\n",
      "第5个文件处理完成。\n",
      "第6个文件处理完成。\n",
      "第7个文件处理完成。\n",
      "第8个文件处理完成。\n",
      "第9个文件处理完成。\n",
      "第10个文件处理完成。\n"
     ]
    }
   ],
   "source": [
    "for i in range(1, 11):\n",
    "    folder_path = f\"D:\\Testbook\\科研\\病例\\病例{i}\"\n",
    "    file_path = os.path.join(folder_path, \"出院记录.doc\")\n",
    "    new_path = doc2docx(file_path)\n",
    "\n",
    "    f = docx.Document(new_path)\n",
    "    content = \"\\n\".join([p.text for p in f.paragraphs])\n",
    "    extract(content, i)\n",
    "\n",
    "    print(f\"第{i}个文件处理完成。\")\n",
    "\n",
    "       \n",
    "    "
   ]
  },
  {
   "cell_type": "code",
   "execution_count": null,
   "metadata": {},
   "outputs": [],
   "source": []
  },
  {
   "cell_type": "code",
   "execution_count": null,
   "metadata": {},
   "outputs": [],
   "source": []
  },
  {
   "cell_type": "code",
   "execution_count": null,
   "metadata": {},
   "outputs": [],
   "source": []
  }
 ],
 "metadata": {
  "kernelspec": {
   "display_name": "rag-test",
   "language": "python",
   "name": "rag-test"
  },
  "language_info": {
   "codemirror_mode": {
    "name": "ipython",
    "version": 3
   },
   "file_extension": ".py",
   "mimetype": "text/x-python",
   "name": "python",
   "nbconvert_exporter": "python",
   "pygments_lexer": "ipython3",
   "version": "3.9.0"
  }
 },
 "nbformat": 4,
 "nbformat_minor": 2
}
